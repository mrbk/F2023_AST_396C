{
 "cells": [
  {
   "cell_type": "markdown",
   "id": "ad422a43",
   "metadata": {},
   "source": [
    "# Homework 2 Solutions"
   ]
  },
  {
   "cell_type": "code",
   "execution_count": 2,
   "id": "5f299748",
   "metadata": {},
   "outputs": [],
   "source": [
    "import numpy\n",
    "import scipy.special as s_sp\n",
    "import scipy.integrate as s_int\n",
    "import scipy.optimize as s_opt\n",
    "%matplotlib widget\n",
    "import matplotlib.pyplot as plt\n",
    "from IPython.display import display\n",
    "from IPython.display import Math"
   ]
  },
  {
   "cell_type": "markdown",
   "id": "3397054a-6432-4a8e-b1bd-5ed430e79291",
   "metadata": {},
   "source": [
    "## Question 1"
   ]
  },
  {
   "attachments": {},
   "cell_type": "markdown",
   "id": "c4c43395-f656-4111-a421-a66c1216b425",
   "metadata": {},
   "source": [
    "We are asked to compute the size of the comoving horizon at matter-radiation equality for an Einstein-de Sitter (ish) Universe with $z_{\\rm eq}=24000\\,\\Omega_{\\rm m,0}\\,h^2$. The comoving horizon is given by \n",
    "\n",
    "\\begin{align}\n",
    "\\chi_{\\rm h}(a)&=\\int_0^a \\frac{c\\,da}{a^2\\,H(a)}\\\\\n",
    "&=\\frac{c}{H_0}\\int_0^a \\frac{da}{a^2\\,\\sqrt{\\Omega_{\\rm m,0}a^{-3} + \\Omega_{\\rm r,0}a^{-4}}}\\\\\n",
    "&=\\frac{c}{\\sqrt{\\Omega_{\\rm m, 0}}\\,H_0}\\int_0^a \\frac{da}{\\sqrt{a + \\Omega_{\\rm r,0}/\\Omega_{\\rm m,0}}}\\\\\n",
    "&=\\frac{c}{\\sqrt{\\Omega_{\\rm m, 0}}\\,H_0}\\int_0^a \\frac{da}{\\sqrt{a + a_{\\rm eq}}}\n",
    "\\end{align}\n",
    "\n",
    "(Note: $\\Omega_{\\rm r,0}/\\Omega_{\\rm m,0}=a_{\\rm eq}=(1+z_{\\rm eq})^{-1}=(24000\\,\\Omega_{\\rm m}\\,h^2)^{-1}$, where the last equality comes from $z_{\\rm eq}=24000\\,\\Omega_{\\rm m,0}\\,h^2$ as given in the problem.) This integral is straightforward:\n",
    "\n",
    "\\begin{align}\n",
    "\\chi_{\\rm h}(a)&=\\frac{c}{\\sqrt{\\Omega_{\\rm m, 0}}\\,H_0}\\int_0^a \\frac{da}{\\sqrt{a + a_{\\rm eq}}}\\\\\n",
    "&= \\frac{2\\,c}{\\sqrt{\\Omega_{\\rm m, 0}}\\,H_0} \\sqrt{a+a_{\\rm eq}} \\bigg|_0^{a_{\\rm eq}} \\\\\n",
    "&= \\frac{2\\,c}{\\sqrt{\\Omega_{\\rm m, 0}}\\,H_0} \\left(\\sqrt{2}-1 \\right)\\,\\sqrt{a_{\\rm eq}}\\\\\n",
    "&= \\frac{2\\,c}{H_0}\\frac{1}{\\sqrt{24000\\,\\Omega_{\\rm m,0}^2\\,h^2}}\\,\\left(\\sqrt{2}-1 \\right)\\\\\n",
    "&= \\frac{2}{h}\\frac{c}{100\\,{\\rm km\\,s^{-1}\\,Mpc^{-1}}}\\frac{1}{\\sqrt{24000\\,\\Omega_{\\rm m,0}^2\\,h^2}}\\,\\left(\\sqrt{2}-1 \\right)\\\\\n",
    "&=C\\,(\\Omega_{\\rm m,0}\\,h^2)^{-1}\\left(\\sqrt{2}-1 \\right)\\,.\n",
    "\\end{align}\n",
    "Let's evaluate C:"
   ]
  },
  {
   "cell_type": "code",
   "execution_count": 3,
   "id": "0576dd5e-9119-4ec5-acff-f8fa404796e5",
   "metadata": {},
   "outputs": [
    {
     "name": "stdout",
     "output_type": "stream",
     "text": [
      "C=39 Mpc\n"
     ]
    }
   ],
   "source": [
    "d_hub=3e5/100\n",
    "# c=3e5 km/s, H/h=100 km/s/Mpc\n",
    "coeffic=d_hub*2/(24000**0.5)\n",
    "print(f'C={coeffic:.0f} Mpc')"
   ]
  },
  {
   "cell_type": "markdown",
   "id": "aac04e09-1d19-455d-a324-39efb96d3e9c",
   "metadata": {},
   "source": [
    "\\#nailedIt"
   ]
  },
  {
   "cell_type": "markdown",
   "id": "ede8a8c2-c746-45ea-bca0-b8c62a41b222",
   "metadata": {},
   "source": [
    "## Question 2"
   ]
  },
  {
   "cell_type": "markdown",
   "id": "e6cceea3-4259-4d05-9115-9002341c9cb0",
   "metadata": {},
   "source": [
    "We are given that the free-streaming distance is given by \n",
    "\\begin{align}\n",
    "d_{\\rm fs}(t)&=\\int_0^t \\,\\frac{v(t)}{a(t)}\\,dt\\,\\;\\;{\\rm so}\\\\\n",
    "d_{\\rm fs}(a)&=\\int_0^a \\,\\frac{v(a)}{a^2\\,H(a)}\\,da\n",
    "\\end{align}\n",
    "We are also given how the velocity depends on $a$:\n",
    "$v=c$ for $a<a_{\\rm nr}$ and $v \\propto 1/a$ for $a>a_{\\rm nr}$. Continuity at $a_{\\rm nr}$ demands that the constant of proportionality in the non-relativistic regime is given by \n",
    "$$v=\\frac{c}{(a/a_{\\rm nr})}\\;\\;\\;\\;[a>a_{\\rm nr}]\\;.$$\n",
    "$a_{\\rm nr}$ is given by $k\\,T(a_{\\rm nr})=mc^2$, with $k\\,T(a)=2.3\\times 10^{-4}\\,a^{-1}\\,{\\rm eV}$ (i.e., $T(a)=T_0\\,a^{-1}$ with $T_0=2.73$ K). This means that we can get $a_{\\rm nr}$:"
   ]
  },
  {
   "cell_type": "code",
   "execution_count": 4,
   "id": "6ff9629b-8c9c-431f-a3bc-ee3eb23e3130",
   "metadata": {},
   "outputs": [
    {
     "name": "stdout",
     "output_type": "stream",
     "text": [
      "a_nr=2.30e-07\n"
     ]
    }
   ],
   "source": [
    "a_nr=2.3e-4/1e3\n",
    "print(f'a_nr={a_nr:.2e}')"
   ]
  },
  {
   "cell_type": "markdown",
   "id": "4b5f70da-fdbf-426a-af2c-41347eadf1a0",
   "metadata": {},
   "source": [
    "so the scale factor when the 1 keV sterile neutrino goes non-relativistic is $a_{\\rm nr}=2.3\\times 10^{-7}$, or a redshift of $z_{\\rm nr}=1/a_{\\rm nr}=4.3 \\times 10^{6}$. We need to split the integral into 2 parts, one from $a=0$ to $a=a_{\\rm nr}$ and the other from $a_{\\rm nr}$ to $a=1$:\n",
    "$$\n",
    "d_{\\rm fs}(a=1)=\\int_0^{a_{\\rm nr}} \\,\\frac{c}{a^2\\,H(a)}\\,da + \\int_{a_{\\rm nr}}^1 \\,\\frac{c\\,a_{\\rm nr}}{a^3\\,H(a)}\\,da\n",
    "$$"
   ]
  },
  {
   "cell_type": "code",
   "execution_count": 5,
   "id": "a3b4b7ff-f0f9-4d9c-9adf-cb27a49cbc8c",
   "metadata": {},
   "outputs": [
    {
     "name": "stdout",
     "output_type": "stream",
     "text": [
      "comoving free-streaming distance: 1.01 Mpc\n",
      "\n",
      "comoving free-streaming distance by a_nr: 0.11 Mpc\n",
      "comoving free-streaming distance after a_nr: 0.90 Mpc\n",
      "\n",
      "comoving free-streaming distance by a_eq: 0.83 Mpc\n",
      "comoving free-streaming distance after a_eq: 0.18 Mpc\n"
     ]
    }
   ],
   "source": [
    "h0=0.7\n",
    "om=0.3\n",
    "# redshift of matter-radiation equality:\n",
    "omor=24000*om*h0**2\n",
    "# omega_rad at z=0:\n",
    "om_r=om/omor\n",
    "\n",
    "# rho_crit at z=0, in h^2 M_sun/Mpc^3:\n",
    "rho_crit0=2.78e11\n",
    "\n",
    "def int_fs(a):\n",
    "    return 1/a**3/((om-om_r)*a**-3+(1.-om)+om_r*a**-4)**0.5\n",
    "\n",
    "def int_fs_rel(a):\n",
    "    return 1/a**2/((om-om_r)*a**-3+(1.-om)+om_r*a**-4)**0.5\n",
    "\n",
    "\n",
    "# note: 3e3/h0 = c/H0 in Gpc\n",
    "# \n",
    "\n",
    "\n",
    "from scipy.integrate import quad\n",
    "# these integrals give comoving freestreaming scale before it becomes\n",
    "# non-relativistic (fs1) and after it becomes non-relativistic (fs2)\n",
    "fs1=3e3*quad(int_fs_rel, 0, a_nr)[0]/h0\n",
    "fs2=3e3*quad(int_fs, a_nr, 1)[0]*a_nr/h0\n",
    "\n",
    "# from z=10^9 to z_nr:\n",
    "aexp1=logspace(-9, log10(a_nr))\n",
    "# from z_nr to z=0:\n",
    "aexp2=logspace(log10(a_nr), 0)\n",
    "\n",
    "fsvals=numpy.zeros(aexp1.size*2)\n",
    "\n",
    "for i in range(aexp1.size):\n",
    "    fsvals[i]=3e3*quad(int_fs_rel, 0, aexp1[i])[0]/h0\n",
    "\n",
    "for i in range(aexp2.size):\n",
    "    fsvals[aexp1.size + i]=3e3*quad(int_fs, a_nr, aexp2[i])[0]*a_nr/h0 + fs1\n",
    "\n",
    "# let's also separately get the free-streaming distance at matter-radiation equality:\n",
    "\n",
    "fs_aeq=fs1+3e3*quad(int_fs, a_nr, 1/omor)[0]*a_nr/h0\n",
    "\n",
    "# free streaming length at z=0:\n",
    "fs_z0=fsvals[-1]\n",
    "\n",
    "\n",
    "print('comoving free-streaming distance: {0:.2f} Mpc\\n'.format(fs_z0))\n",
    "#\n",
    "print('comoving free-streaming distance by a_nr: {0:.2f} Mpc'.format(fs1))\n",
    "print('comoving free-streaming distance after a_nr: {0:.2f} Mpc\\n'.format(fs2))\n",
    "# \n",
    "print('comoving free-streaming distance by a_eq: {0:.2f} Mpc'.format(fs_aeq))\n",
    "print('comoving free-streaming distance after a_eq: {0:.2f} Mpc'.format(fs_z0-fs_aeq))\n"
   ]
  },
  {
   "cell_type": "markdown",
   "id": "71738ee8-4996-4609-8d35-28774df8007a",
   "metadata": {},
   "source": [
    "We're getting a free-streaming length of $\\lambda_{\\rm fs} = 1\\,{\\rm Mpc}$ at $z=0$. Only about 10\\% of that free-streaming happens before $a_{\\rm nr}$; 83\\% happens before $a_{\\rm eq}$. So, most of the free-streaming happens in the radiation-dominated era after the particle becomes non-relativistic. To compute the velocity today, we just evaluate the expression we have above for $v(a=1)$: \n",
    "$$v(a=1)=c\\,\\frac{a_{\\rm nr}}{a}:$$"
   ]
  },
  {
   "cell_type": "code",
   "execution_count": 6,
   "id": "a8466690-4c3a-4af4-9c79-15c01089bfd6",
   "metadata": {},
   "outputs": [
    {
     "name": "stdout",
     "output_type": "stream",
     "text": [
      "The free-streaming velocity today is 69 m/s\n"
     ]
    }
   ],
   "source": [
    "print('The free-streaming velocity today is {0:.0f} m/s'.format(3e8*a_nr))"
   ]
  },
  {
   "cell_type": "markdown",
   "id": "5f4533d0-b8e5-4549-a625-8400c1aad82f",
   "metadata": {},
   "source": [
    "That's pretty small!! \n",
    "\n",
    "The mass associated with this free-streaming length is simply \n",
    "$$M_{\\rm fs}=\\frac{4\\,\\pi}{3}\\,\\lambda_{\\rm fs}^3\\,\\rho_{\\rm m,0}:$$"
   ]
  },
  {
   "cell_type": "code",
   "execution_count": 7,
   "id": "1ba57507-eef9-4568-81d6-22d7be321ff1",
   "metadata": {},
   "outputs": [
    {
     "name": "stdout",
     "output_type": "stream",
     "text": [
      "The free-streaming mass  1.77e+11 M_sun\n"
     ]
    }
   ],
   "source": [
    "print('The free-streaming mass  {0:.2e} M_sun'.format(4*pi/3*fs_z0**3*om*rho_crit0*h0**2))"
   ]
  },
  {
   "cell_type": "markdown",
   "id": "506e765d-c241-4852-abe2-34d21032451a",
   "metadata": {},
   "source": [
    "This is a factor of $\\sim 5$ less massive than the Milky Way. A full calculation ends up with a somewhat different result: the free-streaming length is a factor of $\\sim 7-10$ smaller, and the free-streaming mass is therefore **significantly** smaller. For details, see [Schneider et al. 2012](https://ui.adsabs.harvard.edu/abs/2012MNRAS.424..684S/abstract). Let's also make sure we do the plot:"
   ]
  },
  {
   "cell_type": "code",
   "execution_count": 8,
   "id": "0a40e92f-a83d-4a13-94d6-277d5dd40d73",
   "metadata": {},
   "outputs": [
    {
     "data": {
      "application/vnd.jupyter.widget-view+json": {
       "model_id": "abf745e9263243baa958fd66954f5cb4",
       "version_major": 2,
       "version_minor": 0
      },
      "image/png": "[encoded data removed]",
      "text/html": [
       "\n",
       "            <div style=\"display: inline-block;\">\n",
       "                <div class=\"jupyter-widgets widget-label\" style=\"text-align: center;\">\n",
       "                    Figure\n",
       "                </div>\n",
       "                <img src='data:image/png;base64,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' width=480.0/>\n",
       "            </div>\n",
       "        "
      ],
      "text/plain": [
       "Canvas(toolbar=Toolbar(toolitems=[('Home', 'Reset original view', 'home', 'home'), ('Back', 'Back to previous …"
      ]
     },
     "metadata": {},
     "output_type": "display_data"
    }
   ],
   "source": [
    "plt.loglog(r_[aexp1, aexp2], fsvals, 'k-', lw=4)\n",
    "plt.xlabel('scale factor a')\n",
    "plt.ylabel(r'$\\lambda_{\\rm fs}\\;[{\\rm comoving\\; Mpc}]$')\n",
    "plt.plot([a_nr]*2, [1e-4, 2], 'k--', lw=1.5)\n",
    "plt.plot([om_r]*2, [1e-4, 2], 'k:', lw=2)\n",
    "plt.ylim(1e-3, 2e0)\n",
    "plt.xlim(1e-9, 1e0)\n",
    "plt.text(a_nr/1.2, 1e-2, r'$a_{\\rm nr}$', rotation=90, ha='right', va='center', size=20)\n",
    "plt.text(om_r*1.2, 1e-2, r'$a_{\\rm eq}$', rotation=90, ha='left', va='center', size=20)\n",
    "show()"
   ]
  },
  {
   "cell_type": "markdown",
   "id": "54f1b5b6-38a7-45ea-b34d-44841195a181",
   "metadata": {},
   "source": [
    "## Question 3"
   ]
  },
  {
   "cell_type": "markdown",
   "id": "687ef626",
   "metadata": {},
   "source": [
    "We know that the Fermi-Dirac distribution function for particles with total energy $E(p)=\\sqrt{(cp)^2+(mc^2)^2}$ is \n",
    "$$f(p,T)=g\\,\\frac{1}{e^{\\frac{E}{kT}} + 1} \\,.$$ As discussed in class (and examined in this problem), neutrinos freeze out when highly relativistic, meaning the distribution function is unchanged and can be taken to be the ultra-relativistic limit of $E=cp$. Therefore, we have $$f=g\\,\\frac{1}{e^{\\frac{cp}{kT}} + 1}\\;.$$ \n",
    "\n",
    "The number density is $$n(T)=\\int_0^{\\infty} f(p,T) d^3\\left(\\frac{p}{2\\,\\pi\\,\\hbar}\\right)^3=\\frac{4\\,\\pi}{(2\\,\\pi\\,\\hbar)^3} g\\,\\int_0^{\\infty} \\frac{p^2}{e^{\\frac{cp}{kT}} + 1}\\,dp \\,.$$\n",
    "From our discussion in class (or an integral table, the interal evaluates to $\\frac{3}{4}\\,\\Gamma(3)\\,\\zeta(3)$, meaning the number density per flavor as a function of temperature is \n",
    "$$n(T_{\\nu})=\\frac{3\\,g_{\\nu}}{4\\pi^2}\\,\\zeta(3)\\,\\left(\\frac{kT_{\\nu}}{\\hbar c} \\right)^3 \\;.$$ \n",
    "\n",
    "The mass density as given in the problem is $\\rho_{\\nu}(T)=m_{\\nu}\\,n_{\\nu}(T)$ (i.e., the mass density for fully non-relativistic particles). So, we can write that $$\\Omega_{\\nu,0}=\\frac{\\rho_{\\nu}(T=T_0)}{\\rho_{\\rm c,0}}=\\sum_i m_{\\nu,i} \\frac{3\\,g_{\\nu}}{4\\pi^2}\\,\\zeta(3)\\,\\left(\\frac{kT_{\\nu, 0}}{\\hbar c} \\right)^3 \\frac{8\\,\\pi\\,G}{3\\,H_0^2}\\,.$$\n",
    "\n",
    "We know (or can calculate) that $\\rho_{\\rm c,0}/c^2=1.05\\times 10^{-5}\\,h^2\\,{\\rm GeV\\,cm^{-3}}$. We also know that $T_{\\nu,0}=(4/11)^{1/3}\\,T_{\\gamma,0}=(4/11)^{1/3}\\,2.7255\\,{\\rm K}=1.95\\,{\\rm K}$. Putting this all together, we have that $$\\Omega_{\\nu,0}\\,h^2=A\\,\\sum_i m_{\\nu,i} c^2$$ with $$A=\\frac{3\\,g_{\\nu}}{4\\pi^2}\\,\\zeta(3)\\,\\left(\\frac{k\\,1.95\\,{\\rm K}}{\\hbar c} \\right)^3\\, (1.05\\times 10^{-5}\\,{\\rm GeV\\,cm^{-3}})^{-1}\\,.$$ Unit-wise, $[kT/\\hbar c] \\sim {\\rm L^{-1}}$, so $[A] \\sim {\\rm E^{-1}}$, as expected. Whew. Let's evaluate $A$:\n",
    "             "
   ]
  },
  {
   "cell_type": "code",
   "execution_count": 9,
   "id": "23debe15",
   "metadata": {},
   "outputs": [],
   "source": [
    "const_a=3*2/4/numpy.pi**2*s_sp.zeta(3)*(8.617e-5*1.95/197e-7)**3/1.05e4"
   ]
  },
  {
   "cell_type": "markdown",
   "id": "3db30999",
   "metadata": {},
   "source": [
    "(in the expression above for ${\\rm const\\_a}=A$, I've used (1) $\\hbar\\,c=197 \\,{\\rm eV \\;nm}=197\\times 10^{-7}\\,{\\rm ev \\;cm}$, (2) $g_{\\nu}=2$ (because we have 1 neutrino and one anti-neutrino per species), and (3) $k=8.617\\times 10^{-5}\\, {\\rm eV\\,K^{-1}}$.) If we evaluate $A$ -- or better yet, $1/A$, such that $$\\Omega_{\\nu,0}\\,h^2=\\frac{\\sum_i m_{\\nu,i} c^2}{A^{-1}}\\,,$$ we find:"
   ]
  },
  {
   "cell_type": "code",
   "execution_count": 10,
   "id": "551c72cf",
   "metadata": {},
   "outputs": [
    {
     "name": "stdout",
     "output_type": "stream",
     "text": [
      "1/A  = 93 eV\n"
     ]
    }
   ],
   "source": [
    "print('1/A  = {0:.0f} eV'.format(1/const_a))"
   ]
  },
  {
   "cell_type": "markdown",
   "id": "0d04bb25",
   "metadata": {},
   "source": [
    "In other words, $$\\Omega_{\\nu,0}\\,h^2=\\frac{\\sum_i m_{\\nu,i} c^2}{93\\,{\\rm eV}}\\;.$$ (This is ~1% different from the $94$ eV quoted in the problem because of the approximations made in the expressions for $\\hbar\\,c$, $k$, and $T_{\\nu,0}$.) One way to think of this is that if even one species of neutrino had a mass of order $10~{\\rm eV}$, that would be enough to consitute most -- or all -- of the dark matter, since $\\omega_{\\rm dm,0} = \\Omega_{\\rm dm, 0}\\,h^2\\approx 0.12$. (There would be serious issues with this, though, as we'll discuss later.) We know that $\\Omega_{\\rm tot,0} \\sim 1$, so it's clear that $\\Omega_{\\nu,0}\\,h^2 \\ll 1$ -- i.e., $\\sum_i m_{\\nu,i} c^2 \\ll 93\\,{\\rm eV}$. Since $k\\,T \\approx 1\\,{\\rm MeV}$ at 1 second, we have $m_{\\nu}\\,c^2 \\ll k\\,T$ at neutrino decoupling, and our assumption that neutrinos decouple while relativistic was a good one."
   ]
  },
  {
   "cell_type": "markdown",
   "id": "4ddc91c2",
   "metadata": {},
   "source": [
    "## Question 4"
   ]
  },
  {
   "cell_type": "markdown",
   "id": "a892800b-6f2e-4fb2-84e8-19d83f454ef4",
   "metadata": {},
   "source": [
    "We are given a fine-grained phase space density of \n",
    "$$\\mathcal{D}_{\\rm f}=\\frac{d^6M}{d^3x\\,d^3v}=g\\,m^4\\,h^{-3}\\,f(p)$$ --- note that 3 powers of the mass come from the original definition of $d^3p=d^3(mv)$ --- \n",
    "and a coarse-grained phase space density of \n",
    "$$\\mathcal{D}_{\\rm c}=\\frac{\\Delta M}{(\\Delta x)^3\\,(\\Delta v)^3}=\\frac{\\rho_0}{(2\\,\\pi\\,\\sigma_0^2)^{3/2}}\\,\\;.$$\n",
    "The problem notes that the fine-grained phase space density must always be at least as large as the coarse-grained phase space density (basically, \"mixing\" can only dilute the phase space density, i.e., $$\\mathcal{D}_{\\rm f} \\ge \\mathcal{D}_{\\rm c}\\,.$$ Thus, we have an inequality:\n",
    "$$g\\,m^4\\,h^{-3}\\,f(p) \\ge \\frac{\\rho_0}{(2\\,\\pi\\,\\sigma_0^2)^{3/2}}\\,.$$\n",
    "The phase space distribution function for fermions at a given temperature is $f(p|T)=[\\exp(E(p)/kT)+1]^{-1}$. In general this will be a complicated expression, but we are only trying to get bounds, so we want to evaluate the limits of this function. In particular, $f(p|T)$ is monotonically decreasing function of momentum, as evaluating at $E=p=0$ givs $f=1/2$, and all other values of E will give smaller values of $f$. This means $f(p)$ has a maximum value of $1/2$, so we can replace $f(p)$ in our inequality with $1/2$ and the inequality remains true (the coarse-grained density will always be no larger than the maximum fine-grained density). Thus, \n",
    "$$\n",
    "\\frac{1}{2}\\,g\\,m^4\\,h^{-3} \\ge \\frac{\\rho_0}{(2\\,\\pi\\,\\sigma_0^2)^{3/2}}\\,\n",
    "$$ \n",
    "Solving for $m$, we get\n",
    "\\begin{equation*}\n",
    "m \\ge \\left[\\frac{2\\,\\rho_0\\,h^3}{g\\,(2\\,\\pi\\,\\sigma_0^2)^{3/2}} \\right]^{1/4}\\,.\\label{eq:psd} \\tag{1}\n",
    "\\end{equation*}\n",
    "(For *food for thought*: if we'd instead used the Pauli exclusion principle, we'd have used $f_{\\rm max}=1$ rather than $1/2$ and the $2$ in the numerator on the right-hand side of Eq. \\ref{eq:psd} would be a $1$ instead. The constraint would therefore be weaker (smaller) by a factor of $2^{1/4}$ if we had used the Pauli exclusion principle in our reasoning.)"
   ]
  },
  {
   "cell_type": "markdown",
   "id": "e8d26f36-35e7-4488-b1e1-5eafdb5d4ebf",
   "metadata": {},
   "source": [
    "Next, we want to figure out what this bound implies for $\\rho_0$, assuming $m=1\\,{\\rm keV}$. In that case, we have that\n",
    "$$\n",
    "\\rho_0 \\le \\frac{1}{2}\\,g\\,m^4\\,h^{-3}\\,(2\\,\\pi\\,\\sigma_0^2)^{3/2}\\,\\,.\n",
    "$$\n",
    "To do this, it will be easiest to use $\\hbar\\,c=197\\,{\\rm eV\\,nm}=0.197\\,{\\rm keV\\,nm}$, so let's multiply and divide by $c^6$:\n",
    "$$\n",
    "\\rho_0 \\le \\frac{1}{2}\\,g\\,m^4\\,c^6\\,\\left(\\frac{1}{2\\,\\pi\\,\\hbar\\,c}\\right)^{3}\\,\\left[2\\,\\pi\\,\\left(\\frac{\\sigma_0}{c}\\right)^2\\right]^{3/2}\\,\\,.$$\n",
    "Evaluating with $g=2$, we get:\n"
   ]
  },
  {
   "cell_type": "code",
   "execution_count": 11,
   "id": "8fe41123-e32a-43a9-996c-2fa9d4b1ac96",
   "metadata": {},
   "outputs": [
    {
     "name": "stdout",
     "output_type": "stream",
     "text": [
      "rho c^2 = 3.08e-13 keV/nm^3\n"
     ]
    }
   ],
   "source": [
    "rhoc2=(1/2/pi/0.197)**3*(2*pi*(10/3e5)**2)**(3./2)\n",
    "print(f'rho c^2 = {rhoc2:.2e} keV/nm^3')"
   ]
  },
  {
   "cell_type": "markdown",
   "id": "564260ca-5556-40ec-90e0-42a5e6cf6a1e",
   "metadata": {},
   "source": [
    "this is ... not very meaningful. Let's convert to Msun/kpc^3, as requested:"
   ]
  },
  {
   "cell_type": "code",
   "execution_count": 12,
   "id": "1b272dc2-bfa2-4b13-ac2f-e021cc90b37b",
   "metadata": {},
   "outputs": [
    {
     "name": "stdout",
     "output_type": "stream",
     "text": [
      "rho = 9.04e+09 Msun/kpc^3\n"
     ]
    }
   ],
   "source": [
    "kev_in_gev=1e6\n",
    "gev_in_msun=10**57\n",
    "nm_in_m=1e9\n",
    "m_in_kpc=3.086e19\n",
    "rho_msunkpc3=rhoc2/kev_in_gev/gev_in_msun*(nm_in_m*m_in_kpc)**3\n",
    "print(f'rho = {rho_msunkpc3:.2e} Msun/kpc^3')"
   ]
  },
  {
   "cell_type": "markdown",
   "id": "199d91b5-b1f5-4bda-ad5a-9af00128d116",
   "metadata": {},
   "source": [
    "Now, let's do the required plot. We can use the results we just obtained for $m=1\\,{\\rm keV}$ and just scale to other masses."
   ]
  },
  {
   "cell_type": "code",
   "execution_count": 13,
   "id": "3d7d1dd9-c9b7-43da-9214-451d0ed1ad76",
   "metadata": {},
   "outputs": [
    {
     "data": {
      "application/vnd.jupyter.widget-view+json": {
       "model_id": "d0e2900ebe34440d84a456fda268ed7b",
       "version_major": 2,
       "version_minor": 0
      },
      "image/png": "[encoded data removed]",
      "text/html": [
       "\n",
       "            <div style=\"display: inline-block;\">\n",
       "                <div class=\"jupyter-widgets widget-label\" style=\"text-align: center;\">\n",
       "                    Figure\n",
       "                </div>\n",
       "                <img src='data:image/png;base64,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' width=480.0/>\n",
       "            </div>\n",
       "        "
      ],
      "text/plain": [
       "Canvas(toolbar=Toolbar(toolitems=[('Home', 'Reset original view', 'home', 'home'), ('Back', 'Back to previous …"
      ]
     },
     "metadata": {},
     "output_type": "display_data"
    }
   ],
   "source": [
    "# mass, in keV:\n",
    "mmin=0.1\n",
    "mmax=10**3\n",
    "mvals=logspace(numpy.log10(mmin), numpy.log10(mmax))\n",
    "# rho, in M_sun/kpc^3\n",
    "rhovals=rho_msunkpc3*mvals**4\n",
    "plt.figure()\n",
    "plt.loglog(mvals, rhovals,  'k-', lw=4)\n",
    "plt.xlabel(r'$m\\;[{\\rm keV}]$')\n",
    "plt.ylabel(r'$\\rho\\;[M_{\\odot}\\,{\\rm kpc}^{-3}]$')\n",
    "plt.plot([a_nr]*2, [1e-4, 2], 'k--', lw=1.5)\n",
    "plt.plot([om_r]*2, [1e-4, 2], 'k:', lw=2)\n",
    "plt.xlim(mmin, mmax)\n",
    "plt.ylim(rhovals.min()/2, rhovals.max()*2)\n",
    "show()"
   ]
  },
  {
   "cell_type": "markdown",
   "id": "bf19dadf-2034-46bd-b74a-ed6e3cf92f72",
   "metadata": {},
   "source": [
    "Dwarf galaxies have central densities that can exceed $10^9\\,M_{\\odot}\\,{\\rm kpc}^{-3}$; as a result, it's not possible for thermal particles with $m \\lesssim 1~{\\rm keV}$ to be the entirety of dark matter."
   ]
  },
  {
   "cell_type": "code",
   "execution_count": null,
   "id": "0a671255-e2be-473d-9173-0c585431bf67",
   "metadata": {},
   "outputs": [],
   "source": []
  }
 ],
 "metadata": {
  "kernelspec": {
   "display_name": "Python 3 (ipykernel)",
   "language": "python",
   "name": "python3"
  },
  "language_info": {
   "codemirror_mode": {
    "name": "ipython",
    "version": 3
   },
   "file_extension": ".py",
   "mimetype": "text/x-python",
   "name": "python",
   "nbconvert_exporter": "python",
   "pygments_lexer": "ipython3",
   "version": "3.11.5"
  }
 },
 "nbformat": 4,
 "nbformat_minor": 5
}
